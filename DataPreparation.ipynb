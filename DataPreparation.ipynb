{
 "cells": [
  {
   "cell_type": "code",
   "execution_count": 2,
   "metadata": {},
   "outputs": [],
   "source": [
    "import pandas as pd\n",
    "import os"
   ]
  },
  {
   "cell_type": "code",
   "execution_count": 3,
   "metadata": {},
   "outputs": [
    {
     "name": "stdout",
     "output_type": "stream",
     "text": [
      "['weboc_data1.xlsx', 'weboc_data19.xlsx', 'weboc_data2.xlsx', 'weboc_data20.xlsx', 'weboc_data21.xlsx', 'weboc_data22.xlsx', 'weboc_data23.xlsx', 'weboc_data24.xlsx', 'weboc_data25.xlsx', 'weboc_data26.xlsx', 'weboc_data3.xlsx', 'weboc_data4.xlsx', 'weboc_data5.xlsx', 'weboc_data6.xlsx', 'weboc_data7.xlsx', 'weboc_data8.xlsx', 'weboc_data9.xlsx']\n"
     ]
    }
   ],
   "source": [
    "Files_directory = os.getcwd() + '/OUTPUT'\n",
    "all_files = os.listdir(Files_directory)\n",
    "print(all_files)\n",
    "\n",
    "ProcessedSavedFiles_directory = os.getcwd() + '/ProcessedFiles'\n"
   ]
  },
  {
   "cell_type": "code",
   "execution_count": 4,
   "metadata": {},
   "outputs": [
    {
     "name": "stdout",
     "output_type": "stream",
     "text": [
      "Index(['HS Code', 'Description', 'Unit value', 'Goods Name', 'Country'], dtype='object')\n",
      "(333769, 5)\n",
      "Complete Data Saved\n"
     ]
    }
   ],
   "source": [
    "complete_data = pd.DataFrame()\n",
    "\n",
    "for file in all_files:\n",
    "    if file.endswith('.xlsx'):\n",
    "        df = pd.read_excel(Files_directory + '/' + file, index_col=None, dtype={'HS Code': str})\n",
    "        \n",
    "        complete_data = pd.concat([complete_data, df], ignore_index=True)\n",
    "        complete_data.drop_duplicates(subset=None, keep='first', inplace=True)\n",
    "\n",
    "\n",
    "print(complete_data.columns)\n",
    "print(complete_data.shape)\n",
    "complete_data.to_excel(ProcessedSavedFiles_directory + '/Complete_weboc_data.xlsx', index=False)\n",
    "print('Complete Data Saved')"
   ]
  },
  {
   "cell_type": "code",
   "execution_count": 5,
   "metadata": {},
   "outputs": [
    {
     "name": "stdout",
     "output_type": "stream",
     "text": [
      "Index(['HS Code', 'Description', 'Unit value', 'Goods Name', 'Country'], dtype='object')\n",
      "(333769, 5)\n"
     ]
    }
   ],
   "source": [
    "df = pd.read_excel(ProcessedSavedFiles_directory + '/Complete_weboc_data.xlsx', index_col=None, dtype={'HS Code': str})\n",
    "        \n",
    "complete_data = pd.concat([complete_data, df], ignore_index=True)\n",
    "complete_data.drop_duplicates(subset=None, keep='first', inplace=True)\n",
    "\n",
    "\n",
    "print(complete_data.columns)\n",
    "print(complete_data.shape)\n",
    "# complete_data.to_excel(ProcessedSavedFiles_directory + '/Complete_weboc_data.xlsx', index=False)\n",
    "# print('Complete Data Saved')"
   ]
  },
  {
   "cell_type": "code",
   "execution_count": 20,
   "metadata": {},
   "outputs": [
    {
     "name": "stdout",
     "output_type": "stream",
     "text": [
      "250568\n",
      "8\n"
     ]
    }
   ],
   "source": [
    "# Now save them in list of excel files in ProcessedFiles directory, Take 30000 rows in each file and at last save the remaining rows in last file\n",
    "rows = complete_data.shape[0]\n",
    "print(rows)\n",
    "rows_per_file = 30000 \n",
    "files = rows // rows_per_file\n",
    "print(files)\n",
    "\n",
    "for i in range(files):\n",
    "    complete_data.iloc[i*rows_per_file:(i+1)*rows_per_file].to_excel(ProcessedSavedFiles_directory + '/weboc_data' + str(i) + '.xlsx', index=False)\n"
   ]
  }
 ],
 "metadata": {
  "kernelspec": {
   "display_name": "venv",
   "language": "python",
   "name": "python3"
  },
  "language_info": {
   "codemirror_mode": {
    "name": "ipython",
    "version": 3
   },
   "file_extension": ".py",
   "mimetype": "text/x-python",
   "name": "python",
   "nbconvert_exporter": "python",
   "pygments_lexer": "ipython3",
   "version": "3.12.8"
  }
 },
 "nbformat": 4,
 "nbformat_minor": 2
}
